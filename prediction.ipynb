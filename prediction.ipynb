{
 "cells": [
  {
   "cell_type": "code",
   "execution_count": 56,
   "metadata": {},
   "outputs": [],
   "source": [
    "import pandas as pd\n",
    "import numpy as np\n",
    "import matplotlib.pyplot as plt\n",
    "import seaborn as sns\n",
    "from sklearn.preprocessing import OneHotEncoder\n",
    "from sklearn.model_selection import LeaveOneOut\n",
    "from sklearn.decomposition import PCA\n",
    "from sklearn.linear_model import LinearRegression\n",
    "from sklearn.model_selection import cross_val_score"
   ]
  },
  {
   "cell_type": "code",
   "execution_count": 57,
   "metadata": {},
   "outputs": [
    {
     "name": "stderr",
     "output_type": "stream",
     "text": [
      "C:\\Users\\dng09\\AppData\\Local\\Temp\\ipykernel_5620\\1242993557.py:3: SettingWithCopyWarning: \n",
      "A value is trying to be set on a copy of a slice from a DataFrame.\n",
      "Try using .loc[row_indexer,col_indexer] = value instead\n",
      "\n",
      "See the caveats in the documentation: https://pandas.pydata.org/pandas-docs/stable/user_guide/indexing.html#returning-a-view-versus-a-copy\n",
      "  conditions['gender'] = np.where(conditions['gender']==1, 'F', 'M')\n",
      "C:\\Users\\dng09\\AppData\\Local\\Temp\\ipykernel_5620\\1242993557.py:4: SettingWithCopyWarning: \n",
      "A value is trying to be set on a copy of a slice from a DataFrame.\n",
      "Try using .loc[row_indexer,col_indexer] = value instead\n",
      "\n",
      "See the caveats in the documentation: https://pandas.pydata.org/pandas-docs/stable/user_guide/indexing.html#returning-a-view-versus-a-copy\n",
      "  conditions['age'] = pd.Categorical(conditions['age'], categories=['25-29', '30-34', '35-39', '40-44', '45-49', '50-54', '55-59', '60-64', '65-69'], ordered=True)\n"
     ]
    }
   ],
   "source": [
    "scores = pd.read_csv('cleaned_data/scores.csv')\n",
    "conditions = scores.loc[0:19, :]\n",
    "conditions['gender'] = np.where(conditions['gender']==1, 'F', 'M')\n",
    "conditions['age'] = pd.Categorical(conditions['age'], categories=['25-29', '30-34', '35-39', '40-44', '45-49', '50-54', '55-59', '60-64', '65-69'], ordered=True)"
   ]
  },
  {
   "cell_type": "code",
   "execution_count": 58,
   "metadata": {},
   "outputs": [
    {
     "data": {
      "text/plain": [
       "Index(['number', 'days', 'gender', 'age', 'afftype', 'melanch', 'inpatient',\n",
       "       'edu', 'marriage', 'work', 'madrs1', 'madrs2'],\n",
       "      dtype='object')"
      ]
     },
     "execution_count": 58,
     "metadata": {},
     "output_type": "execute_result"
    }
   ],
   "source": [
    "conditions.columns"
   ]
  },
  {
   "cell_type": "code",
   "execution_count": 59,
   "metadata": {},
   "outputs": [
    {
     "name": "stdout",
     "output_type": "stream",
     "text": [
      "12.423200558412425\n"
     ]
    }
   ],
   "source": [
    "loo = LeaveOneOut()\n",
    "loss = 0\n",
    "train_losses = []\n",
    "test_losses = []\n",
    "i = 0\n",
    "\n",
    "for train_index, test_index in loo.split(X):\n",
    "    # Get data\n",
    "    X_train, X_test = X[train_index], X[test_index]\n",
    "    y_train, y_test = conditions['madrs2'][train_index], conditions['madrs2'][test_index]\n",
    "    \n",
    "    # Train model\n",
    "    lm = LinearRegression()\n",
    "    lm.fit(X_train, y_train)\n",
    "\n",
    "    # Evaluate model\n",
    "    squared_loss = (y_test - lm.predict(X_test))**2\n",
    "    train_loss = (y_train - lm.predict(X_train))**2\n",
    "    loss += squared_loss.sum()\n",
    "    test_losses.append(squared_loss.sum())\n",
    "    train_losses.append(np.mean(train_loss))\n",
    "\n",
    "\n",
    "print(loss / X.shape[0])"
   ]
  },
  {
   "cell_type": "code",
   "execution_count": 60,
   "metadata": {},
   "outputs": [
    {
     "name": "stdout",
     "output_type": "stream",
     "text": [
      "8.079105096794738\n",
      "0.6061158172193113\n"
     ]
    }
   ],
   "source": [
    "print(np.mean(train_losses))\n",
    "print(np.std(train_losses))"
   ]
  },
  {
   "cell_type": "code",
   "execution_count": 63,
   "metadata": {},
   "outputs": [
    {
     "name": "stdout",
     "output_type": "stream",
     "text": [
      "12.423200558412425\n"
     ]
    }
   ],
   "source": [
    "print(np.std(test_losses))"
   ]
  },
  {
   "cell_type": "code",
   "execution_count": 62,
   "metadata": {},
   "outputs": [
    {
     "data": {
      "image/png": "[encoded data removed]",
      "text/plain": [
       "<Figure size 720x432 with 1 Axes>"
      ]
     },
     "metadata": {
      "needs_background": "light"
     },
     "output_type": "display_data"
    }
   ],
   "source": [
    "fig, ax = plt.subplots(figsize=(10, 6))\n",
    "\n",
    "ax.hist(losses, bins=20);"
   ]
  }
 ],
 "metadata": {
  "kernelspec": {
   "display_name": "Python 3",
   "language": "python",
   "name": "python3"
  },
  "language_info": {
   "codemirror_mode": {
    "name": "ipython",
    "version": 3
   },
   "file_extension": ".py",
   "mimetype": "text/x-python",
   "name": "python",
   "nbconvert_exporter": "python",
   "pygments_lexer": "ipython3",
   "version": "3.10.4"
  }
 },
 "nbformat": 4,
 "nbformat_minor": 2
}
