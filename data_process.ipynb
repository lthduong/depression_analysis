{
 "cells": [
  {
   "cell_type": "markdown",
   "metadata": {},
   "source": [
    "# Data process\n",
    "\n",
    "This notebook is used to process data if needed"
   ]
  },
  {
   "cell_type": "code",
   "execution_count": 362,
   "metadata": {},
   "outputs": [],
   "source": [
    "import numpy as np\n",
    "import pandas as pd"
   ]
  },
  {
   "cell_type": "code",
   "execution_count": 363,
   "metadata": {},
   "outputs": [
    {
     "data": {
      "text/html": [
       "<div>\n",
       "<style scoped>\n",
       "    .dataframe tbody tr th:only-of-type {\n",
       "        vertical-align: middle;\n",
       "    }\n",
       "\n",
       "    .dataframe tbody tr th {\n",
       "        vertical-align: top;\n",
       "    }\n",
       "\n",
       "    .dataframe thead th {\n",
       "        text-align: right;\n",
       "    }\n",
       "</style>\n",
       "<table border=\"1\" class=\"dataframe\">\n",
       "  <thead>\n",
       "    <tr style=\"text-align: right;\">\n",
       "      <th></th>\n",
       "      <th>number</th>\n",
       "      <th>days</th>\n",
       "      <th>gender</th>\n",
       "      <th>age</th>\n",
       "      <th>afftype</th>\n",
       "      <th>melanch</th>\n",
       "      <th>inpatient</th>\n",
       "      <th>edu</th>\n",
       "      <th>marriage</th>\n",
       "      <th>work</th>\n",
       "      <th>madrs1</th>\n",
       "      <th>madrs2</th>\n",
       "    </tr>\n",
       "  </thead>\n",
       "  <tbody>\n",
       "    <tr>\n",
       "      <th>0</th>\n",
       "      <td>condition_1</td>\n",
       "      <td>11</td>\n",
       "      <td>2</td>\n",
       "      <td>35-39</td>\n",
       "      <td>2.0</td>\n",
       "      <td>2.0</td>\n",
       "      <td>2.0</td>\n",
       "      <td>6-10</td>\n",
       "      <td>1.0</td>\n",
       "      <td>2.0</td>\n",
       "      <td>19.0</td>\n",
       "      <td>19.0</td>\n",
       "    </tr>\n",
       "    <tr>\n",
       "      <th>1</th>\n",
       "      <td>condition_2</td>\n",
       "      <td>18</td>\n",
       "      <td>2</td>\n",
       "      <td>40-44</td>\n",
       "      <td>1.0</td>\n",
       "      <td>2.0</td>\n",
       "      <td>2.0</td>\n",
       "      <td>6-10</td>\n",
       "      <td>2.0</td>\n",
       "      <td>2.0</td>\n",
       "      <td>24.0</td>\n",
       "      <td>11.0</td>\n",
       "    </tr>\n",
       "    <tr>\n",
       "      <th>2</th>\n",
       "      <td>condition_3</td>\n",
       "      <td>13</td>\n",
       "      <td>1</td>\n",
       "      <td>45-49</td>\n",
       "      <td>2.0</td>\n",
       "      <td>2.0</td>\n",
       "      <td>2.0</td>\n",
       "      <td>6-10</td>\n",
       "      <td>2.0</td>\n",
       "      <td>2.0</td>\n",
       "      <td>24.0</td>\n",
       "      <td>25.0</td>\n",
       "    </tr>\n",
       "    <tr>\n",
       "      <th>3</th>\n",
       "      <td>condition_4</td>\n",
       "      <td>13</td>\n",
       "      <td>2</td>\n",
       "      <td>25-29</td>\n",
       "      <td>2.0</td>\n",
       "      <td>2.0</td>\n",
       "      <td>2.0</td>\n",
       "      <td>11-15</td>\n",
       "      <td>1.0</td>\n",
       "      <td>1.0</td>\n",
       "      <td>20.0</td>\n",
       "      <td>16.0</td>\n",
       "    </tr>\n",
       "    <tr>\n",
       "      <th>4</th>\n",
       "      <td>condition_5</td>\n",
       "      <td>13</td>\n",
       "      <td>2</td>\n",
       "      <td>50-54</td>\n",
       "      <td>2.0</td>\n",
       "      <td>2.0</td>\n",
       "      <td>2.0</td>\n",
       "      <td>11-15</td>\n",
       "      <td>2.0</td>\n",
       "      <td>2.0</td>\n",
       "      <td>26.0</td>\n",
       "      <td>26.0</td>\n",
       "    </tr>\n",
       "  </tbody>\n",
       "</table>\n",
       "</div>"
      ],
      "text/plain": [
       "        number  days  gender    age  afftype  melanch  inpatient    edu  \\\n",
       "0  condition_1    11       2  35-39      2.0      2.0        2.0   6-10   \n",
       "1  condition_2    18       2  40-44      1.0      2.0        2.0   6-10   \n",
       "2  condition_3    13       1  45-49      2.0      2.0        2.0   6-10   \n",
       "3  condition_4    13       2  25-29      2.0      2.0        2.0  11-15   \n",
       "4  condition_5    13       2  50-54      2.0      2.0        2.0  11-15   \n",
       "\n",
       "   marriage  work  madrs1  madrs2  \n",
       "0       1.0   2.0    19.0    19.0  \n",
       "1       2.0   2.0    24.0    11.0  \n",
       "2       2.0   2.0    24.0    25.0  \n",
       "3       1.0   1.0    20.0    16.0  \n",
       "4       2.0   2.0    26.0    26.0  "
      ]
     },
     "execution_count": 363,
     "metadata": {},
     "output_type": "execute_result"
    }
   ],
   "source": [
    "scores = pd.read_csv('data/scores.csv')\n",
    "scores.head()"
   ]
  },
  {
   "cell_type": "code",
   "execution_count": 364,
   "metadata": {},
   "outputs": [
    {
     "data": {
      "text/plain": [
       "number        object\n",
       "days           int64\n",
       "gender         int64\n",
       "age           object\n",
       "afftype      float64\n",
       "melanch      float64\n",
       "inpatient    float64\n",
       "edu           object\n",
       "marriage     float64\n",
       "work         float64\n",
       "madrs1       float64\n",
       "madrs2       float64\n",
       "dtype: object"
      ]
     },
     "execution_count": 364,
     "metadata": {},
     "output_type": "execute_result"
    }
   ],
   "source": [
    "scores.dtypes"
   ]
  },
  {
   "cell_type": "code",
   "execution_count": 365,
   "metadata": {},
   "outputs": [
    {
     "data": {
      "text/html": [
       "<div>\n",
       "<style scoped>\n",
       "    .dataframe tbody tr th:only-of-type {\n",
       "        vertical-align: middle;\n",
       "    }\n",
       "\n",
       "    .dataframe tbody tr th {\n",
       "        vertical-align: top;\n",
       "    }\n",
       "\n",
       "    .dataframe thead th {\n",
       "        text-align: right;\n",
       "    }\n",
       "</style>\n",
       "<table border=\"1\" class=\"dataframe\">\n",
       "  <thead>\n",
       "    <tr style=\"text-align: right;\">\n",
       "      <th></th>\n",
       "      <th>days</th>\n",
       "      <th>gender</th>\n",
       "      <th>afftype</th>\n",
       "      <th>melanch</th>\n",
       "      <th>inpatient</th>\n",
       "      <th>marriage</th>\n",
       "      <th>work</th>\n",
       "      <th>madrs1</th>\n",
       "      <th>madrs2</th>\n",
       "    </tr>\n",
       "  </thead>\n",
       "  <tbody>\n",
       "    <tr>\n",
       "      <th>count</th>\n",
       "      <td>55.000000</td>\n",
       "      <td>55.000000</td>\n",
       "      <td>23.000000</td>\n",
       "      <td>20.000000</td>\n",
       "      <td>23.000000</td>\n",
       "      <td>23.000000</td>\n",
       "      <td>23.000000</td>\n",
       "      <td>23.000000</td>\n",
       "      <td>23.000000</td>\n",
       "    </tr>\n",
       "    <tr>\n",
       "      <th>mean</th>\n",
       "      <td>12.600000</td>\n",
       "      <td>1.454545</td>\n",
       "      <td>1.739130</td>\n",
       "      <td>1.950000</td>\n",
       "      <td>1.782609</td>\n",
       "      <td>1.521739</td>\n",
       "      <td>1.869565</td>\n",
       "      <td>22.739130</td>\n",
       "      <td>20.000000</td>\n",
       "    </tr>\n",
       "    <tr>\n",
       "      <th>std</th>\n",
       "      <td>2.491467</td>\n",
       "      <td>0.502519</td>\n",
       "      <td>0.540824</td>\n",
       "      <td>0.223607</td>\n",
       "      <td>0.421741</td>\n",
       "      <td>0.510754</td>\n",
       "      <td>0.344350</td>\n",
       "      <td>4.797892</td>\n",
       "      <td>4.729021</td>\n",
       "    </tr>\n",
       "    <tr>\n",
       "      <th>min</th>\n",
       "      <td>5.000000</td>\n",
       "      <td>1.000000</td>\n",
       "      <td>1.000000</td>\n",
       "      <td>1.000000</td>\n",
       "      <td>1.000000</td>\n",
       "      <td>1.000000</td>\n",
       "      <td>1.000000</td>\n",
       "      <td>13.000000</td>\n",
       "      <td>11.000000</td>\n",
       "    </tr>\n",
       "    <tr>\n",
       "      <th>25%</th>\n",
       "      <td>13.000000</td>\n",
       "      <td>1.000000</td>\n",
       "      <td>1.000000</td>\n",
       "      <td>2.000000</td>\n",
       "      <td>2.000000</td>\n",
       "      <td>1.000000</td>\n",
       "      <td>2.000000</td>\n",
       "      <td>18.500000</td>\n",
       "      <td>16.000000</td>\n",
       "    </tr>\n",
       "    <tr>\n",
       "      <th>50%</th>\n",
       "      <td>13.000000</td>\n",
       "      <td>1.000000</td>\n",
       "      <td>2.000000</td>\n",
       "      <td>2.000000</td>\n",
       "      <td>2.000000</td>\n",
       "      <td>2.000000</td>\n",
       "      <td>2.000000</td>\n",
       "      <td>24.000000</td>\n",
       "      <td>21.000000</td>\n",
       "    </tr>\n",
       "    <tr>\n",
       "      <th>75%</th>\n",
       "      <td>13.000000</td>\n",
       "      <td>2.000000</td>\n",
       "      <td>2.000000</td>\n",
       "      <td>2.000000</td>\n",
       "      <td>2.000000</td>\n",
       "      <td>2.000000</td>\n",
       "      <td>2.000000</td>\n",
       "      <td>26.000000</td>\n",
       "      <td>24.500000</td>\n",
       "    </tr>\n",
       "    <tr>\n",
       "      <th>max</th>\n",
       "      <td>20.000000</td>\n",
       "      <td>2.000000</td>\n",
       "      <td>3.000000</td>\n",
       "      <td>2.000000</td>\n",
       "      <td>2.000000</td>\n",
       "      <td>2.000000</td>\n",
       "      <td>2.000000</td>\n",
       "      <td>29.000000</td>\n",
       "      <td>28.000000</td>\n",
       "    </tr>\n",
       "  </tbody>\n",
       "</table>\n",
       "</div>"
      ],
      "text/plain": [
       "            days     gender    afftype    melanch  inpatient   marriage  \\\n",
       "count  55.000000  55.000000  23.000000  20.000000  23.000000  23.000000   \n",
       "mean   12.600000   1.454545   1.739130   1.950000   1.782609   1.521739   \n",
       "std     2.491467   0.502519   0.540824   0.223607   0.421741   0.510754   \n",
       "min     5.000000   1.000000   1.000000   1.000000   1.000000   1.000000   \n",
       "25%    13.000000   1.000000   1.000000   2.000000   2.000000   1.000000   \n",
       "50%    13.000000   1.000000   2.000000   2.000000   2.000000   2.000000   \n",
       "75%    13.000000   2.000000   2.000000   2.000000   2.000000   2.000000   \n",
       "max    20.000000   2.000000   3.000000   2.000000   2.000000   2.000000   \n",
       "\n",
       "            work     madrs1     madrs2  \n",
       "count  23.000000  23.000000  23.000000  \n",
       "mean    1.869565  22.739130  20.000000  \n",
       "std     0.344350   4.797892   4.729021  \n",
       "min     1.000000  13.000000  11.000000  \n",
       "25%     2.000000  18.500000  16.000000  \n",
       "50%     2.000000  24.000000  21.000000  \n",
       "75%     2.000000  26.000000  24.500000  \n",
       "max     2.000000  29.000000  28.000000  "
      ]
     },
     "execution_count": 365,
     "metadata": {},
     "output_type": "execute_result"
    }
   ],
   "source": [
    "scores.describe()"
   ]
  },
  {
   "cell_type": "code",
   "execution_count": 366,
   "metadata": {},
   "outputs": [
    {
     "data": {
      "text/plain": [
       "number        0\n",
       "days          0\n",
       "gender        0\n",
       "age           0\n",
       "afftype      32\n",
       "melanch      35\n",
       "inpatient    32\n",
       "edu           2\n",
       "marriage     32\n",
       "work         32\n",
       "madrs1       32\n",
       "madrs2       32\n",
       "dtype: int64"
      ]
     },
     "execution_count": 366,
     "metadata": {},
     "output_type": "execute_result"
    }
   ],
   "source": [
    "scores.isnull().sum()"
   ]
  },
  {
   "cell_type": "markdown",
   "metadata": {},
   "source": [
    "There are a lot of null data in columns afftype, melanch, inpatient, marriage, work, madrs1, and madrs2. However, a quick inspection of the data reveals that these values belong to the patients in the control group, i.e., the ones that does not have depression. Thus, it is sensible to replace those value with zeros. But another observation can be made. The melanch column actually has 35 null values. This indicate there are 3 \"real\" null columns. We need to drop them using the exact index. "
   ]
  },
  {
   "cell_type": "code",
   "execution_count": 367,
   "metadata": {},
   "outputs": [],
   "source": [
    "scores = scores.drop([6, 7, 8])"
   ]
  },
  {
   "cell_type": "markdown",
   "metadata": {},
   "source": [
    "Now, let's replace all null values in the depression related columns with zeros"
   ]
  },
  {
   "cell_type": "code",
   "execution_count": 368,
   "metadata": {},
   "outputs": [
    {
     "data": {
      "text/plain": [
       "number        0\n",
       "days          0\n",
       "gender        0\n",
       "age           0\n",
       "afftype       0\n",
       "melanch       0\n",
       "inpatient     0\n",
       "edu           2\n",
       "marriage     32\n",
       "work         32\n",
       "madrs1        0\n",
       "madrs2        0\n",
       "dtype: int64"
      ]
     },
     "execution_count": 368,
     "metadata": {},
     "output_type": "execute_result"
    }
   ],
   "source": [
    "scores.loc[:, ['afftype', 'melanch', 'inpatient', 'madrs1', 'madrs2']] = scores.loc[:, ['afftype', 'melanch', 'inpatient', 'madrs1', 'madrs2']] .fillna(0)\n",
    "scores.isna().sum()"
   ]
  },
  {
   "cell_type": "markdown",
   "metadata": {},
   "source": [
    "For columns marriage and work, they also have all na values for the controlled group. However it would not be sensible to replace these values with any numbers. For that reason, these columns will be leaved at they are. Finally, the column education might not be used, so it can also be leaved like that."
   ]
  },
  {
   "cell_type": "markdown",
   "metadata": {},
   "source": [
    "Now, let move on to the individual dataset. One way to go around this is to either:\n",
    "\n",
    "* For each dataset, we summarize the data by taking the average data for each day\n",
    "* We can ignore it when doing the analysis and only use them for individual anaylis. \n",
    "\n",
    "Either way, we need to do individual analysis first. So we can tackle the second point first. To guaranttee fairness. We can select a number from the remaining patients (i.e., from 1 to 23 excluding 7, 8, 9) in case of condition and from 1 to 32 in case of control, and select the according individual dataset."
   ]
  },
  {
   "cell_type": "code",
   "execution_count": 369,
   "metadata": {},
   "outputs": [],
   "source": [
    "conditions = np.delete(np.arange(1, 24), [6, 7, 8])\n",
    "controls = np.arange(1, 33)\n",
    "\n",
    "condition_sample = np.random.choice(conditions, 1)\n",
    "control_sample = np.random.choice(controls, 1)\n",
    "\n",
    "# CONDITION_SAMPLE = [5], [3]\n",
    "# CONTROL_SAMPLE = [10], [27]"
   ]
  },
  {
   "cell_type": "code",
   "execution_count": 370,
   "metadata": {},
   "outputs": [],
   "source": [
    "condition_df = pd.read_csv('data/condition/condition_{}.csv'.format(str(condition_sample[0])))\n",
    "control_df = pd.read_csv('data/control/control_{}.csv'.format(str(control_sample[0])))"
   ]
  },
  {
   "cell_type": "markdown",
   "metadata": {},
   "source": [
    "Now, let's do some first summarization of the dataframes"
   ]
  },
  {
   "cell_type": "code",
   "execution_count": 371,
   "metadata": {},
   "outputs": [
    {
     "name": "stdout",
     "output_type": "stream",
     "text": [
      "timestamp    object\n",
      "date         object\n",
      "activity      int64\n",
      "dtype: object\n",
      "\n",
      "\n",
      "timestamp    object\n",
      "date         object\n",
      "activity      int64\n",
      "dtype: object\n"
     ]
    }
   ],
   "source": [
    "print(condition_df.dtypes)\n",
    "print('\\n')\n",
    "print(control_df.dtypes)"
   ]
  },
  {
   "cell_type": "code",
   "execution_count": 372,
   "metadata": {},
   "outputs": [
    {
     "name": "stdout",
     "output_type": "stream",
     "text": [
      "           activity\n",
      "count  21648.000000\n",
      "mean     265.299704\n",
      "std      399.881083\n",
      "min        3.000000\n",
      "25%        5.000000\n",
      "50%       50.000000\n",
      "75%      394.000000\n",
      "max     3847.000000\n",
      "\n",
      "\n",
      "           activity\n",
      "count  20490.000000\n",
      "mean     314.047194\n",
      "std      431.451563\n",
      "min        0.000000\n",
      "25%        0.000000\n",
      "50%      130.000000\n",
      "75%      469.000000\n",
      "max     3869.000000\n"
     ]
    }
   ],
   "source": [
    "print(condition_df.describe())\n",
    "print('\\n')\n",
    "print(control_df.describe())"
   ]
  },
  {
   "cell_type": "code",
   "execution_count": 373,
   "metadata": {},
   "outputs": [
    {
     "name": "stdout",
     "output_type": "stream",
     "text": [
      "timestamp    0\n",
      "date         0\n",
      "activity     0\n",
      "dtype: int64\n",
      "\n",
      "\n",
      "timestamp    0\n",
      "date         0\n",
      "activity     0\n",
      "dtype: int64\n"
     ]
    }
   ],
   "source": [
    "print(condition_df.isnull().sum())\n",
    "print('\\n')\n",
    "print(control_df.isnull().sum())"
   ]
  },
  {
   "cell_type": "markdown",
   "metadata": {},
   "source": [
    "There are no NaN value, so that's good. Lets get to the analyzing."
   ]
  },
  {
   "cell_type": "code",
   "execution_count": 374,
   "metadata": {},
   "outputs": [],
   "source": [
    "condition_df[['timestamp', 'date']] = condition_df[['timestamp', 'date']].apply(pd.to_datetime)\n",
    "control_df[['date']] = control_df[['timestamp', 'date']].apply(pd.to_datetime)\n",
    "\n",
    "condition_df['timestamp'] = condition_df['timestamp'].dt.hour\n",
    "control_df['timestamp'] = control_df['timestamp'].dt.hour"
   ]
  },
  {
   "cell_type": "code",
   "execution_count": 375,
   "metadata": {},
   "outputs": [],
   "source": [
    "condition_df.to_csv('cleaned_data/condition.csv', index=False)\n",
    "control_df.to_csv('cleaned_data/control.csv', index=False)\n",
    "scores.to_csv('cleaned_data/scores.csv', index=False)"
   ]
  }
 ],
 "metadata": {
  "kernelspec": {
   "display_name": "Python 3",
   "language": "python",
   "name": "python3"
  },
  "language_info": {
   "codemirror_mode": {
    "name": "ipython",
    "version": 3
   },
   "file_extension": ".py",
   "mimetype": "text/x-python",
   "name": "python",
   "nbconvert_exporter": "python",
   "pygments_lexer": "ipython3",
   "version": "3.10.7"
  }
 },
 "nbformat": 4,
 "nbformat_minor": 2
}
